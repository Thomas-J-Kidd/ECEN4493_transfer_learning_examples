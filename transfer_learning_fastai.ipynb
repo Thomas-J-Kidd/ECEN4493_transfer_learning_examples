{
 "cells": [
  {
   "cell_type": "markdown",
   "id": "1b52d29e",
   "metadata": {},
   "source": [
    "# Step 1: Install Fast.ai\n",
    "First, ensure you have Fast.ai and PyTorch installed. Fast.ai will install PyTorch as a dependency if it's not already installed."
   ]
  },
  {
   "cell_type": "code",
   "execution_count": null,
   "id": "1c8d3c07",
   "metadata": {},
   "outputs": [],
   "source": [
    "pip install fastai"
   ]
  },
  {
   "cell_type": "markdown",
   "id": "c6d6c8df",
   "metadata": {},
   "source": [
    "# Step 2: Import Necessary Libraries"
   ]
  },
  {
   "cell_type": "code",
   "execution_count": 5,
   "id": "d262f00d",
   "metadata": {},
   "outputs": [],
   "source": [
    "from fastai.vision.all import *\n",
    "from torchvision.models import mobilenet_v2, MobileNet_V2_Weights\n"
   ]
  },
  {
   "cell_type": "markdown",
   "id": "b15d4963",
   "metadata": {},
   "source": [
    "# Step 3 (Optional) Empty the cache for GPU usage"
   ]
  },
  {
   "cell_type": "code",
   "execution_count": 15,
   "id": "c1e3d6cd",
   "metadata": {},
   "outputs": [],
   "source": [
    "torch.cuda.empty_cache()"
   ]
  },
  {
   "cell_type": "markdown",
   "id": "8127ef18",
   "metadata": {},
   "source": [
    "# Step 3: Prepare the Data\n",
    "Fast.ai provides convenient functions to load and preprocess data. The library includes the CIFAR-10 dataset, so you can easily download and prepare it for training."
   ]
  },
  {
   "cell_type": "code",
   "execution_count": 16,
   "id": "fa78860c",
   "metadata": {},
   "outputs": [],
   "source": [
    "path = untar_data(URLs.CIFAR)\n",
    "dls = ImageDataLoaders.from_folder(path, valid_pct=0.2, seed=42,\n",
    "                                   item_tfms=Resize(64),\n",
    "                                   batch_tfms=aug_transforms(mult=2),\n",
    "                                   bs=32, num_workers=4)"
   ]
  },
  {
   "cell_type": "markdown",
   "id": "dfd843cb",
   "metadata": {},
   "source": [
    "# Load the pre-trained MobileNet V2 model\n"
   ]
  },
  {
   "cell_type": "code",
   "execution_count": 17,
   "id": "bdbd7733",
   "metadata": {},
   "outputs": [],
   "source": [
    "# Load the pre-trained MobileNet V2 model\n",
    "pretrained_model = mobilenet_v2(weights=MobileNet_V2_Weights.IMAGENET1K_V1).to('cuda')\n"
   ]
  },
  {
   "cell_type": "markdown",
   "id": "216a963a",
   "metadata": {},
   "source": [
    "# Now create a Fast.ai learner with this model\n"
   ]
  },
  {
   "cell_type": "code",
   "execution_count": 18,
   "id": "d8bc9223",
   "metadata": {},
   "outputs": [],
   "source": [
    "\n",
    "# Now create a Fast.ai learner with this model\n",
    "learn = Learner(dls, pretrained_model, metrics=accuracy)"
   ]
  },
  {
   "cell_type": "code",
   "execution_count": 22,
   "id": "eed6b4e3",
   "metadata": {},
   "outputs": [],
   "source": [
    "# Access the Number of Input Features for the Last Layer\n",
    "num_features = learn.model.classifier[1].in_features\n",
    "# Replace the Last Layer with a New Linear Layer\n",
    "learn.model.classifier[1] = nn.Linear(num_features, dls.c)"
   ]
  },
  {
   "cell_type": "markdown",
   "id": "5a74a0a7",
   "metadata": {},
   "source": [
    "# Find the optimal learning rate\n"
   ]
  },
  {
   "cell_type": "code",
   "execution_count": 20,
   "id": "9af29d58",
   "metadata": {},
   "outputs": [
    {
     "data": {
      "text/html": [
       "\n",
       "<style>\n",
       "    /* Turns off some styling */\n",
       "    progress {\n",
       "        /* gets rid of default border in Firefox and Opera. */\n",
       "        border: none;\n",
       "        /* Needs to be in here for Safari polyfill so background images work as expected. */\n",
       "        background-size: auto;\n",
       "    }\n",
       "    progress:not([value]), progress:not([value])::-webkit-progress-bar {\n",
       "        background: repeating-linear-gradient(45deg, #7e7e7e, #7e7e7e 10px, #5c5c5c 10px, #5c5c5c 20px);\n",
       "    }\n",
       "    .progress-bar-interrupted, .progress-bar-interrupted::-webkit-progress-bar {\n",
       "        background: #F44336;\n",
       "    }\n",
       "</style>\n"
      ],
      "text/plain": [
       "<IPython.core.display.HTML object>"
      ]
     },
     "metadata": {},
     "output_type": "display_data"
    },
    {
     "data": {
      "text/html": [],
      "text/plain": [
       "<IPython.core.display.HTML object>"
      ]
     },
     "metadata": {},
     "output_type": "display_data"
    },
    {
     "data": {
      "text/plain": [
       "SuggestedLRs(valley=0.0003311311302240938)"
      ]
     },
     "execution_count": 20,
     "metadata": {},
     "output_type": "execute_result"
    },
    {
     "data": {
      "image/png": "[encoded data removed]",
      "text/plain": [
       "<Figure size 640x480 with 1 Axes>"
      ]
     },
     "metadata": {},
     "output_type": "display_data"
    }
   ],
   "source": [
    "# Find the optimal learning rate\n",
    "learn.lr_find()"
   ]
  },
  {
   "cell_type": "code",
   "execution_count": 21,
   "id": "f42c5be1",
   "metadata": {},
   "outputs": [
    {
     "data": {
      "text/html": [
       "\n",
       "<style>\n",
       "    /* Turns off some styling */\n",
       "    progress {\n",
       "        /* gets rid of default border in Firefox and Opera. */\n",
       "        border: none;\n",
       "        /* Needs to be in here for Safari polyfill so background images work as expected. */\n",
       "        background-size: auto;\n",
       "    }\n",
       "    progress:not([value]), progress:not([value])::-webkit-progress-bar {\n",
       "        background: repeating-linear-gradient(45deg, #7e7e7e, #7e7e7e 10px, #5c5c5c 10px, #5c5c5c 20px);\n",
       "    }\n",
       "    .progress-bar-interrupted, .progress-bar-interrupted::-webkit-progress-bar {\n",
       "        background: #F44336;\n",
       "    }\n",
       "</style>\n"
      ],
      "text/plain": [
       "<IPython.core.display.HTML object>"
      ]
     },
     "metadata": {},
     "output_type": "display_data"
    },
    {
     "data": {
      "text/html": [
       "<table border=\"1\" class=\"dataframe\">\n",
       "  <thead>\n",
       "    <tr style=\"text-align: left;\">\n",
       "      <th>epoch</th>\n",
       "      <th>train_loss</th>\n",
       "      <th>valid_loss</th>\n",
       "      <th>accuracy</th>\n",
       "      <th>time</th>\n",
       "    </tr>\n",
       "  </thead>\n",
       "  <tbody>\n",
       "    <tr>\n",
       "      <td>0</td>\n",
       "      <td>0.970241</td>\n",
       "      <td>0.729070</td>\n",
       "      <td>0.759417</td>\n",
       "      <td>01:15</td>\n",
       "    </tr>\n",
       "  </tbody>\n",
       "</table>"
      ],
      "text/plain": [
       "<IPython.core.display.HTML object>"
      ]
     },
     "metadata": {},
     "output_type": "display_data"
    },
    {
     "data": {
      "text/html": [
       "\n",
       "<style>\n",
       "    /* Turns off some styling */\n",
       "    progress {\n",
       "        /* gets rid of default border in Firefox and Opera. */\n",
       "        border: none;\n",
       "        /* Needs to be in here for Safari polyfill so background images work as expected. */\n",
       "        background-size: auto;\n",
       "    }\n",
       "    progress:not([value]), progress:not([value])::-webkit-progress-bar {\n",
       "        background: repeating-linear-gradient(45deg, #7e7e7e, #7e7e7e 10px, #5c5c5c 10px, #5c5c5c 20px);\n",
       "    }\n",
       "    .progress-bar-interrupted, .progress-bar-interrupted::-webkit-progress-bar {\n",
       "        background: #F44336;\n",
       "    }\n",
       "</style>\n"
      ],
      "text/plain": [
       "<IPython.core.display.HTML object>"
      ]
     },
     "metadata": {},
     "output_type": "display_data"
    },
    {
     "data": {
      "text/html": [
       "<table border=\"1\" class=\"dataframe\">\n",
       "  <thead>\n",
       "    <tr style=\"text-align: left;\">\n",
       "      <th>epoch</th>\n",
       "      <th>train_loss</th>\n",
       "      <th>valid_loss</th>\n",
       "      <th>accuracy</th>\n",
       "      <th>time</th>\n",
       "    </tr>\n",
       "  </thead>\n",
       "  <tbody>\n",
       "    <tr>\n",
       "      <td>0</td>\n",
       "      <td>0.612612</td>\n",
       "      <td>0.442964</td>\n",
       "      <td>0.844417</td>\n",
       "      <td>01:08</td>\n",
       "    </tr>\n",
       "    <tr>\n",
       "      <td>1</td>\n",
       "      <td>0.595788</td>\n",
       "      <td>0.463680</td>\n",
       "      <td>0.845667</td>\n",
       "      <td>01:09</td>\n",
       "    </tr>\n",
       "    <tr>\n",
       "      <td>2</td>\n",
       "      <td>0.461155</td>\n",
       "      <td>0.336483</td>\n",
       "      <td>0.880583</td>\n",
       "      <td>01:18</td>\n",
       "    </tr>\n",
       "    <tr>\n",
       "      <td>3</td>\n",
       "      <td>0.408756</td>\n",
       "      <td>0.278279</td>\n",
       "      <td>0.903417</td>\n",
       "      <td>01:19</td>\n",
       "    </tr>\n",
       "    <tr>\n",
       "      <td>4</td>\n",
       "      <td>0.338498</td>\n",
       "      <td>0.254088</td>\n",
       "      <td>0.910000</td>\n",
       "      <td>01:20</td>\n",
       "    </tr>\n",
       "  </tbody>\n",
       "</table>"
      ],
      "text/plain": [
       "<IPython.core.display.HTML object>"
      ]
     },
     "metadata": {},
     "output_type": "display_data"
    }
   ],
   "source": [
    "learn.fine_tune(5, base_lr=1e-3)"
   ]
  },
  {
   "cell_type": "code",
   "execution_count": null,
   "id": "28520549",
   "metadata": {},
   "outputs": [],
   "source": []
  }
 ],
 "metadata": {
  "kernelspec": {
   "display_name": "Python 3 (ipykernel)",
   "language": "python",
   "name": "python3"
  },
  "language_info": {
   "codemirror_mode": {
    "name": "ipython",
    "version": 3
   },
   "file_extension": ".py",
   "mimetype": "text/x-python",
   "name": "python",
   "nbconvert_exporter": "python",
   "pygments_lexer": "ipython3",
   "version": "3.10.12"
  }
 },
 "nbformat": 4,
 "nbformat_minor": 5
}
