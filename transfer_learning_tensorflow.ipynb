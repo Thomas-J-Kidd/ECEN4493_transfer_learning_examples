{
  "nbformat": 4,
  "nbformat_minor": 0,
  "metadata": {
    "colab": {
      "provenance": [],
      "authorship_tag": "ABX9TyMhnQCsfU6JpZrsDl6hMiKq",
      "include_colab_link": true
    },
    "kernelspec": {
      "name": "python3",
      "display_name": "Python 3"
    },
    "language_info": {
      "name": "python"
    }
  },
  "cells": [
    {
      "cell_type": "markdown",
      "metadata": {
        "id": "view-in-github",
        "colab_type": "text"
      },
      "source": [
        "<a href=\"https://colab.research.google.com/github/Thomas-J-Kidd/ECEN4493_transfer_learning_examples/blob/main/transfer_learning_tensorflow.ipynb\" target=\"_parent\"><img src=\"https://colab.research.google.com/assets/colab-badge.svg\" alt=\"Open In Colab\"/></a>"
      ]
    },
    {
      "cell_type": "markdown",
      "source": [
        "# Import Necessary Libraries"
      ],
      "metadata": {
        "id": "BLP4_n1kucx4"
      }
    },
    {
      "cell_type": "code",
      "execution_count": 1,
      "metadata": {
        "id": "GhpX049VuOZE"
      },
      "outputs": [],
      "source": [
        "import tensorflow as tf\n",
        "from tensorflow.keras import layers, models\n",
        "import numpy as np\n",
        "import matplotlib.pyplot as plt"
      ]
    },
    {
      "cell_type": "markdown",
      "source": [
        "# Load and Preprocess Your Dataset\n",
        "For demonstration, let's use the CIFAR-10 dataset, which is directly available in TensorFlow. The dataset contains 60,000 color images in 10 classes, with 6,000 images per class. We will also use Mobilnet V2 as its a lightwieght model"
      ],
      "metadata": {
        "id": "KExxIY0aukqN"
      }
    },
    {
      "cell_type": "code",
      "source": [
        "from tensorflow.keras.datasets import cifar10\n",
        "from tensorflow.keras.applications.mobilenet_v2 import preprocess_input\n",
        "from sklearn.model_selection import train_test_split\n",
        "\n",
        "# Load CIFAR-10 data\n",
        "(train_images, train_labels), (test_images, test_labels) = cifar10.load_data()\n",
        "\n",
        "# Preprocess data for MobileNetV2\n",
        "train_images = preprocess_input(train_images)\n",
        "test_images = preprocess_input(test_images)\n"
      ],
      "metadata": {
        "id": "cc_1F9qDucSr"
      },
      "execution_count": 17,
      "outputs": []
    },
    {
      "cell_type": "markdown",
      "source": [
        "# Load a Pre-Trained Model\n",
        "Load a pre-trained model without the top layer (since we will be adding our own). We will use ResNet50 as an example:"
      ],
      "metadata": {
        "id": "2l8tyj74u5D1"
      }
    },
    {
      "cell_type": "code",
      "source": [
        "base_model = tf.keras.applications.MobileNetV2(weights='imagenet', include_top=False, input_shape=(32, 32, 3))\n",
        "base_model.trainable = False  # Freeze the base model\n"
      ],
      "metadata": {
        "colab": {
          "base_uri": "https://localhost:8080/"
        },
        "id": "NnoEA-Aru-j3",
        "outputId": "46821c2d-b484-49f9-e53d-d1d2ab0cbc96"
      },
      "execution_count": 18,
      "outputs": [
        {
          "output_type": "stream",
          "name": "stderr",
          "text": [
            "WARNING:tensorflow:`input_shape` is undefined or non-square, or `rows` is not in [96, 128, 160, 192, 224]. Weights for input shape (224, 224) will be loaded as the default.\n"
          ]
        }
      ]
    },
    {
      "cell_type": "markdown",
      "source": [
        "# Add Custom Layers\n",
        "Now, add your custom layers on top of the pre-trained model. For CIFAR-10, you might want a few dense layers with a final layer of 10 units (for 10 classes) with a softmax activation."
      ],
      "metadata": {
        "id": "MiJ7wrVjvEMV"
      }
    },
    {
      "cell_type": "code",
      "source": [
        "model = models.Sequential([\n",
        "  base_model,\n",
        "  layers.GlobalAveragePooling2D(),\n",
        "  layers.Dense(10, activation='softmax'),\n",
        "])"
      ],
      "metadata": {
        "id": "Iy65VrPgvJdR"
      },
      "execution_count": 19,
      "outputs": []
    },
    {
      "cell_type": "markdown",
      "source": [
        "# Compile the Model\n",
        "Compile the model with an appropriate optimizer, loss function, and metrics:"
      ],
      "metadata": {
        "id": "HCobaESUvL4Z"
      }
    },
    {
      "cell_type": "code",
      "source": [
        "model.compile(optimizer='adam', loss='sparse_categorical_crossentropy', metrics=['accuracy'])"
      ],
      "metadata": {
        "id": "B85rp5hvvO1w"
      },
      "execution_count": 20,
      "outputs": []
    },
    {
      "cell_type": "markdown",
      "source": [
        "# Train the Model\n",
        "Train the model on your dataset. Since we're using a pre-trained model, you might not need as many epochs."
      ],
      "metadata": {
        "id": "N29rErELvVI3"
      }
    },
    {
      "cell_type": "code",
      "source": [
        "# Use a smaller subset of the data for faster training\n",
        "_, small_train_images, _, small_train_labels = train_test_split(train_images, train_labels, test_size=0.1, random_state=42)\n",
        "\n",
        "# Train the model with reduced epochs\n",
        "history = model.fit(small_train_images, small_train_labels, epochs=5, validation_split=0.2)\n"
      ],
      "metadata": {
        "colab": {
          "base_uri": "https://localhost:8080/"
        },
        "id": "Y9_VOA1evXHr",
        "outputId": "eb4dab82-e604-4a44-d47d-aae2e109ed6c"
      },
      "execution_count": 21,
      "outputs": [
        {
          "output_type": "stream",
          "name": "stdout",
          "text": [
            "Epoch 1/5\n",
            "125/125 [==============================] - 61s 55ms/step - loss: 2.2468 - accuracy: 0.1898 - val_loss: 2.2053 - val_accuracy: 0.2310\n",
            "Epoch 2/5\n",
            "125/125 [==============================] - 5s 44ms/step - loss: 2.1691 - accuracy: 0.2455 - val_loss: 2.1555 - val_accuracy: 0.2500\n",
            "Epoch 3/5\n",
            "125/125 [==============================] - 6s 49ms/step - loss: 2.1198 - accuracy: 0.2677 - val_loss: 2.1232 - val_accuracy: 0.2530\n",
            "Epoch 4/5\n",
            "125/125 [==============================] - 5s 42ms/step - loss: 2.0831 - accuracy: 0.2775 - val_loss: 2.0991 - val_accuracy: 0.2580\n",
            "Epoch 5/5\n",
            "125/125 [==============================] - 7s 55ms/step - loss: 2.0543 - accuracy: 0.2817 - val_loss: 2.0815 - val_accuracy: 0.2640\n"
          ]
        }
      ]
    },
    {
      "cell_type": "markdown",
      "source": [
        "# Evaluate and Fine-Tune\n",
        "After training, evaluate your model's performance on the test set:"
      ],
      "metadata": {
        "id": "KZgzoCFkvb4_"
      }
    },
    {
      "cell_type": "code",
      "source": [
        "test_loss, test_acc = model.evaluate(test_images, test_labels)\n",
        "print(f\"Test Accuracy: {test_acc*100:.2f}%\")"
      ],
      "metadata": {
        "colab": {
          "base_uri": "https://localhost:8080/"
        },
        "id": "S2HfO81VvjRA",
        "outputId": "0eb21986-096b-4486-b381-f0ceec1f95e4"
      },
      "execution_count": 22,
      "outputs": [
        {
          "output_type": "stream",
          "name": "stdout",
          "text": [
            "313/313 [==============================] - 11s 36ms/step - loss: 2.0841 - accuracy: 0.2624\n",
            "Test Accuracy: 26.24%\n"
          ]
        }
      ]
    },
    {
      "cell_type": "markdown",
      "source": [
        "# Fine-Tuning (Optional)\n"
      ],
      "metadata": {
        "id": "vv_-Bb0bvkE0"
      }
    },
    {
      "cell_type": "code",
      "source": [
        "base_model.trainable = True\n",
        "\n",
        "# It's important to recompile the model after making any changes to the `trainable` attribute of any layer.\n",
        "model.compile(optimizer=tf.keras.optimizers.Adam(1e-5),  # Very low learning rate\n",
        "              loss='sparse_categorical_crossentropy',\n",
        "              metrics=['accuracy'])\n",
        "\n",
        "history_fine = model.fit(train_images, train_labels, epochs=5, validation_data=(test_images, test_labels))"
      ],
      "metadata": {
        "colab": {
          "base_uri": "https://localhost:8080/"
        },
        "id": "goydRV2Avpap",
        "outputId": "04bcc05c-4044-478f-aed7-13aa037284fc"
      },
      "execution_count": null,
      "outputs": [
        {
          "output_type": "stream",
          "name": "stdout",
          "text": [
            "Epoch 1/5\n",
            " 521/1563 [=========>....................] - ETA: 4:08 - loss: 3.5978 - accuracy: 0.1450"
          ]
        }
      ]
    },
    {
      "cell_type": "markdown",
      "source": [
        "# Evaluate again"
      ],
      "metadata": {
        "id": "0y1L-4PVyVP5"
      }
    },
    {
      "cell_type": "code",
      "source": [
        "test_loss, test_acc = model.evaluate(test_images, test_labels)\n",
        "print(f\"Test Accuracy: {test_acc*100:.2f}%\")"
      ],
      "metadata": {
        "id": "er2JiQ2PyUk6"
      },
      "execution_count": null,
      "outputs": []
    }
  ]
}